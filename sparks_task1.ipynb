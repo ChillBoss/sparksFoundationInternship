{
 "cells": [
  {
   "cell_type": "code",
   "execution_count": 1,
   "metadata": {},
   "outputs": [],
   "source": [
    "# enable inline plotting with matplotbib and seaborn\n",
    "%matplotlib inline\n",
    "import numpy as np\n",
    "import pylab as pl\n",
    "import pandas as pd\n",
    "from pandas.plotting import scatter_matrix\n",
    "import matplotlib.pyplot as plt\n",
    "import seaborn as sns; \n",
    "sns.set(style=\"ticks\", color_codes=True)\n",
    "import random\n",
    "import time\n",
    "\n",
    "\n",
    "from sklearn.linear_model import LinearRegression\n",
    "from sklearn.ensemble import GradientBoostingRegressor,AdaBoostRegressor\n",
    "from sklearn.ensemble import RandomForestRegressor\n",
    "from sklearn.svm import SVR\n",
    "\n",
    "from sklearn.preprocessing import LabelEncoder, StandardScaler, OneHotEncoder\n",
    "from sklearn.decomposition import PCA\n",
    "\n",
    "# Libraries for constructing Pipelines\n",
    "from sklearn.pipeline import Pipeline, make_pipeline\n",
    "\n",
    "from sklearn.model_selection import train_test_split, GridSearchCV, KFold, cross_val_score\n",
    "from sklearn.decomposition import PCA\n",
    "\n",
    "# Library for Normalization of Numerical Data\n",
    "import scipy.stats \n",
    "\n",
    "from sklearn.feature_selection import RFE, SelectKBest, chi2, SelectFromModel\n",
    "\n",
    "# calculate accuracy measures and confusion matrix\n",
    "from sklearn import metrics\n",
    "from sklearn.metrics import (accuracy_score,confusion_matrix, classification_report, roc_auc_score,\n",
    "f1_score, recall_score, precision_score, SCORERS)\n",
    "\n",
    "# Suppress warnings\n",
    "import warnings\n",
    "warnings.filterwarnings(\"ignore\")"
   ]
  },
  {
   "cell_type": "code",
   "execution_count": 3,
   "metadata": {},
   "outputs": [],
   "source": [
    "def pipeline_metrics(pipedict, hyperdict, scoring='accuracy', display=True):\n",
    "    model_scores=[]\n",
    "    fitted_models={}\n",
    "    for name, pipeline in pipedict.items():\n",
    "    # Construct grid search\n",
    "        model = GridSearchCV(estimator=pipeline,\n",
    "                             param_grid=hyperdict[name],\n",
    "                             scoring=scoring,\n",
    "                             cv=5, verbose=2, n_jobs=-1, return_train_score = True)\n",
    "\n",
    "        # Fit using grid search\n",
    "        start = time.time()\n",
    "        model.fit(x_normal, y)\n",
    "        end = time.time()\n",
    "        #Append scores and time\n",
    "        model_scores.append((name,model.best_score_,end-start))\n",
    "        #Append model\n",
    "        fitted_models[name]=model\n",
    "        if display:\n",
    "            #Print when the model has been fitted\n",
    "            print(f'The {name} model has been fitted!')\n",
    "            # Best accuracy\n",
    "            print('The best RMSE score is : %.3f' % model.best_score_)\n",
    "            # Best params\n",
    "            print('The best params:\\n', model.best_params_,'\\n')\n",
    "            means = model.cv_results_['mean_test_score']\n",
    "            stds = model.cv_results_['std_test_score']\n",
    "            params = model.cv_results_['params']\n",
    "            for mean, stdev, param in zip(means, stds, params):\n",
    "                print('{0} ({1}) with: {2}'.format(mean, stdev, param))\n",
    "    \n",
    "    return model_scores, fitted_models"
   ]
  },
  {
   "cell_type": "code",
   "execution_count": 6,
   "metadata": {},
   "outputs": [
    {
     "name": "stdout",
     "output_type": "stream",
     "text": [
      "Index(['Hours', 'Scores'], dtype='object')\n"
     ]
    }
   ],
   "source": [
    "data = pd.read_csv(\"train_data.csv\")\n",
    "print(data.columns)"
   ]
  },
  {
   "cell_type": "code",
   "execution_count": 7,
   "metadata": {},
   "outputs": [
    {
     "name": "stdout",
     "output_type": "stream",
     "text": [
      "Number of observations:  25\n"
     ]
    },
    {
     "data": {
      "text/html": [
       "<div>\n",
       "<style scoped>\n",
       "    .dataframe tbody tr th:only-of-type {\n",
       "        vertical-align: middle;\n",
       "    }\n",
       "\n",
       "    .dataframe tbody tr th {\n",
       "        vertical-align: top;\n",
       "    }\n",
       "\n",
       "    .dataframe thead th {\n",
       "        text-align: right;\n",
       "    }\n",
       "</style>\n",
       "<table border=\"1\" class=\"dataframe\">\n",
       "  <thead>\n",
       "    <tr style=\"text-align: right;\">\n",
       "      <th></th>\n",
       "      <th>Hours</th>\n",
       "      <th>Scores</th>\n",
       "    </tr>\n",
       "  </thead>\n",
       "  <tbody>\n",
       "    <tr>\n",
       "      <th>0</th>\n",
       "      <td>2.5</td>\n",
       "      <td>21</td>\n",
       "    </tr>\n",
       "    <tr>\n",
       "      <th>1</th>\n",
       "      <td>5.1</td>\n",
       "      <td>47</td>\n",
       "    </tr>\n",
       "    <tr>\n",
       "      <th>2</th>\n",
       "      <td>3.2</td>\n",
       "      <td>27</td>\n",
       "    </tr>\n",
       "    <tr>\n",
       "      <th>3</th>\n",
       "      <td>8.5</td>\n",
       "      <td>75</td>\n",
       "    </tr>\n",
       "    <tr>\n",
       "      <th>4</th>\n",
       "      <td>3.5</td>\n",
       "      <td>30</td>\n",
       "    </tr>\n",
       "    <tr>\n",
       "      <th>5</th>\n",
       "      <td>1.5</td>\n",
       "      <td>20</td>\n",
       "    </tr>\n",
       "    <tr>\n",
       "      <th>6</th>\n",
       "      <td>9.2</td>\n",
       "      <td>88</td>\n",
       "    </tr>\n",
       "    <tr>\n",
       "      <th>7</th>\n",
       "      <td>5.5</td>\n",
       "      <td>60</td>\n",
       "    </tr>\n",
       "    <tr>\n",
       "      <th>8</th>\n",
       "      <td>8.3</td>\n",
       "      <td>81</td>\n",
       "    </tr>\n",
       "    <tr>\n",
       "      <th>9</th>\n",
       "      <td>2.7</td>\n",
       "      <td>25</td>\n",
       "    </tr>\n",
       "  </tbody>\n",
       "</table>\n",
       "</div>"
      ],
      "text/plain": [
       "   Hours  Scores\n",
       "0    2.5      21\n",
       "1    5.1      47\n",
       "2    3.2      27\n",
       "3    8.5      75\n",
       "4    3.5      30\n",
       "5    1.5      20\n",
       "6    9.2      88\n",
       "7    5.5      60\n",
       "8    8.3      81\n",
       "9    2.7      25"
      ]
     },
     "execution_count": 7,
     "metadata": {},
     "output_type": "execute_result"
    }
   ],
   "source": [
    "print(\"Number of observations: \", len(data))\n",
    "data.head(10)"
   ]
  },
  {
   "cell_type": "code",
   "execution_count": 8,
   "metadata": {},
   "outputs": [
    {
     "name": "stdout",
     "output_type": "stream",
     "text": [
      "<class 'pandas.core.frame.DataFrame'>\n",
      "RangeIndex: 25 entries, 0 to 24\n",
      "Data columns (total 2 columns):\n",
      "Hours     25 non-null float64\n",
      "Scores    25 non-null int64\n",
      "dtypes: float64(1), int64(1)\n",
      "memory usage: 528.0 bytes\n"
     ]
    }
   ],
   "source": [
    "data.info()"
   ]
  },
  {
   "cell_type": "code",
   "execution_count": 9,
   "metadata": {},
   "outputs": [
    {
     "data": {
      "text/plain": [
       "2"
      ]
     },
     "execution_count": 9,
     "metadata": {},
     "output_type": "execute_result"
    }
   ],
   "source": [
    "def checkMissingValues(data):\n",
    "    drop_columns = [] \n",
    "    for col in data.columns:\n",
    "        if (data[col].isnull().sum() > 0.85*data.shape[0]):\n",
    "            drop_columns.append(col)\n",
    "    data = data.drop(drop_columns,axis=1)\n",
    "    \n",
    "    data1 = data.dropna()\n",
    "    \n",
    "    return len(data1.columns)\n",
    "\n",
    "checkMissingValues(data)"
   ]
  },
  {
   "cell_type": "code",
   "execution_count": 10,
   "metadata": {},
   "outputs": [
    {
     "name": "stdout",
     "output_type": "stream",
     "text": [
      "Numerical feature's are:  ['Hours', 'Scores']\n",
      "Categorical features are:  []\n"
     ]
    }
   ],
   "source": [
    "def checkCatOrNum(data1):\n",
    "    numeric_feature_columns = list(data1._get_numeric_data().columns)\n",
    "    categorical_feature_columns = list(set(data1.columns)-set(data1._get_numeric_data().columns))\n",
    "    for col in numeric_feature_columns:\n",
    "        if pd.unique(data1[col]).shape[0] < np.sqrt(data1.shape[0]):\n",
    "            categorical_feature_columns.append(col)\n",
    "            numeric_feature_columns.remove(col)\n",
    "            \n",
    "    print(\"Numerical feature's are: \",numeric_feature_columns) \n",
    "    print(\"Categorical features are: \",categorical_feature_columns)\n",
    "    \n",
    "    return numeric_feature_columns,categorical_feature_columns\n",
    "\n",
    "numvars,catvars = checkCatOrNum(data)"
   ]
  },
  {
   "cell_type": "code",
   "execution_count": 11,
   "metadata": {},
   "outputs": [
    {
     "name": "stdout",
     "output_type": "stream",
     "text": [
      "Hours :  1.1  -  9.2\n",
      "Scores :  17  -  95\n"
     ]
    }
   ],
   "source": [
    "for x in range(len(numvars)):\n",
    "    print(numvars[x],\": \", data[numvars[x]].min(),\" - \",data[numvars[x]].max())"
   ]
  },
  {
   "cell_type": "markdown",
   "metadata": {},
   "source": [
    "# EDA"
   ]
  },
  {
   "cell_type": "code",
   "execution_count": 14,
   "metadata": {},
   "outputs": [
    {
     "data": {
      "image/png": "[encoded data removed]",
      "text/plain": [
       "<Figure size 432x288 with 2 Axes>"
      ]
     },
     "metadata": {},
     "output_type": "display_data"
    }
   ],
   "source": [
    "data.hist()\n",
    "plt.show()"
   ]
  },
  {
   "cell_type": "code",
   "execution_count": 16,
   "metadata": {},
   "outputs": [
    {
     "data": {
      "image/png": "[encoded data removed]",
      "text/plain": [
       "<Figure size 432x288 with 4 Axes>"
      ]
     },
     "metadata": {},
     "output_type": "display_data"
    }
   ],
   "source": [
    "# scatter matrix to see the relatioship between the variables\n",
    "scatter_matrix(data)\n",
    "plt.show()"
   ]
  },
  {
   "cell_type": "markdown",
   "metadata": {},
   "source": [
    "# Data Modelling"
   ]
  },
  {
   "cell_type": "code",
   "execution_count": 17,
   "metadata": {},
   "outputs": [],
   "source": [
    "X = data.loc[:, data.columns != 'Scores']\n",
    "y = data.loc[:, data.columns == 'Scores']\n",
    "#x1 = X.copy()"
   ]
  },
  {
   "cell_type": "code",
   "execution_count": 18,
   "metadata": {},
   "outputs": [],
   "source": [
    "#### Normalizing the Dataset\n",
    "ss = StandardScaler()\n",
    "\n",
    "x_normal = ss.fit_transform(X)"
   ]
  },
  {
   "cell_type": "code",
   "execution_count": 24,
   "metadata": {},
   "outputs": [],
   "source": [
    "#Create pipeline for each of the classifiers.\n",
    "pipelines = {'linearregression': Pipeline([('pca', PCA()),\n",
    "                                            ('clf', LinearRegression())])}\n",
    "#             'randomforest':Pipeline([('pca', PCA()),\n",
    "#                                             ('clf', RandomForestRegressor(random_state=123))]),\n",
    "#             'gradientboosting': Pipeline([('pca', PCA()),\n",
    "#                                             ('clf', GradientBoostingRegressor(random_state=123))]),\n",
    "#             'supportvectorregressor' : Pipeline([('pca', PCA()),\n",
    "#                                             ('clf', SVR())])}\n",
    "                                                \n",
    "\n",
    "#Define Hyperparameters for each pipeline\n",
    "hyperparameters_lr ={}\n",
    "\n",
    "# hyperparameters_rf ={'clf__n_estimators': [100,150],\n",
    "#                      'clf__max_depth': [4, 5, 6]}\n",
    "\n",
    "# hyperparameters_gb ={'clf__n_estimators': [10,15], \n",
    "#                      'clf__max_depth': [1, 3, 5],  \n",
    "#                      'clf__learning_rate': [0.05,0.1]}\n",
    "\n",
    "#Instantiate hyperparapeter dictionary\n",
    "hyperparameters = {'linearregression':hyperparameters_lr}\n",
    "#                    'randomforest':hyperparameters_rf,\n",
    "#                    'supportvectorregressor' : hyperparameters_svr,\n",
    "#                    'gradientboosting': hyperparameters_gb}"
   ]
  },
  {
   "cell_type": "code",
   "execution_count": 25,
   "metadata": {},
   "outputs": [
    {
     "name": "stdout",
     "output_type": "stream",
     "text": [
      "Fitting 5 folds for each of 1 candidates, totalling 5 fits\n",
      "The linearregression model has been fitted!\n",
      "The best RMSE score is : 0.918\n",
      "The best params:\n",
      " {} \n",
      "\n",
      "0.9180771341891052 (0.06877822891279645) with: {}\n"
     ]
    },
    {
     "name": "stderr",
     "output_type": "stream",
     "text": [
      "[Parallel(n_jobs=-1)]: Using backend LokyBackend with 8 concurrent workers.\n",
      "[Parallel(n_jobs=-1)]: Done   2 out of   5 | elapsed:    0.0s remaining:    0.0s\n",
      "[Parallel(n_jobs=-1)]: Done   5 out of   5 | elapsed:    0.0s remaining:    0.0s\n",
      "[Parallel(n_jobs=-1)]: Done   5 out of   5 | elapsed:    0.0s finished\n"
     ]
    }
   ],
   "source": [
    "model_scores_auc, fitted_models_auc = pipeline_metrics(pipelines,hyperparameters,scoring='r2')"
   ]
  },
  {
   "cell_type": "code",
   "execution_count": 26,
   "metadata": {},
   "outputs": [
    {
     "data": {
      "text/html": [
       "<div>\n",
       "<style scoped>\n",
       "    .dataframe tbody tr th:only-of-type {\n",
       "        vertical-align: middle;\n",
       "    }\n",
       "\n",
       "    .dataframe tbody tr th {\n",
       "        vertical-align: top;\n",
       "    }\n",
       "\n",
       "    .dataframe thead th {\n",
       "        text-align: right;\n",
       "    }\n",
       "</style>\n",
       "<table border=\"1\" class=\"dataframe\">\n",
       "  <thead>\n",
       "    <tr style=\"text-align: right;\">\n",
       "      <th></th>\n",
       "      <th>r2_score</th>\n",
       "      <th>time</th>\n",
       "    </tr>\n",
       "    <tr>\n",
       "      <th>regressor</th>\n",
       "      <th></th>\n",
       "      <th></th>\n",
       "    </tr>\n",
       "  </thead>\n",
       "  <tbody>\n",
       "    <tr>\n",
       "      <th>linearregression</th>\n",
       "      <td>0.918077</td>\n",
       "      <td>0.030888</td>\n",
       "    </tr>\n",
       "  </tbody>\n",
       "</table>\n",
       "</div>"
      ],
      "text/plain": [
       "                  r2_score      time\n",
       "regressor                           \n",
       "linearregression  0.918077  0.030888"
      ]
     },
     "execution_count": 26,
     "metadata": {},
     "output_type": "execute_result"
    }
   ],
   "source": [
    "score_times_df_r2 = pd.DataFrame(model_scores_auc,columns=['regressor','r2_score','time']).set_index('regressor').sort_values('time')\n",
    "score_times_df_r2"
   ]
  },
  {
   "cell_type": "markdown",
   "metadata": {},
   "source": [
    "# Test the model"
   ]
  },
  {
   "cell_type": "code",
   "execution_count": 27,
   "metadata": {},
   "outputs": [],
   "source": [
    "test = pd.read_csv('test_data.csv')"
   ]
  },
  {
   "cell_type": "code",
   "execution_count": 30,
   "metadata": {},
   "outputs": [],
   "source": [
    "regressor = LinearRegression()"
   ]
  },
  {
   "cell_type": "code",
   "execution_count": 49,
   "metadata": {},
   "outputs": [
    {
     "data": {
      "text/plain": [
       "LinearRegression(copy_X=True, fit_intercept=True, n_jobs=None, normalize=False)"
      ]
     },
     "execution_count": 49,
     "metadata": {},
     "output_type": "execute_result"
    }
   ],
   "source": [
    "regressor.fit(X,y)"
   ]
  },
  {
   "cell_type": "code",
   "execution_count": 50,
   "metadata": {},
   "outputs": [],
   "source": [
    "y_pred = regressor.predict(np.array([9.5]).reshape((-1,1)))"
   ]
  },
  {
   "cell_type": "code",
   "execution_count": 51,
   "metadata": {},
   "outputs": [
    {
     "data": {
      "text/plain": [
       "array([[95.35380562]])"
      ]
     },
     "execution_count": 51,
     "metadata": {},
     "output_type": "execute_result"
    }
   ],
   "source": [
    "y_pred"
   ]
  },
  {
   "cell_type": "code",
   "execution_count": null,
   "metadata": {},
   "outputs": [],
   "source": []
  },
  {
   "cell_type": "code",
   "execution_count": null,
   "metadata": {},
   "outputs": [],
   "source": []
  }
 ],
 "metadata": {
  "kernelspec": {
   "display_name": "Python 3",
   "language": "python",
   "name": "python3"
  },
  "language_info": {
   "codemirror_mode": {
    "name": "ipython",
    "version": 3
   },
   "file_extension": ".py",
   "mimetype": "text/x-python",
   "name": "python",
   "nbconvert_exporter": "python",
   "pygments_lexer": "ipython3",
   "version": "3.7.6"
  }
 },
 "nbformat": 4,
 "nbformat_minor": 4
}
